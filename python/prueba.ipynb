{
 "cells": [
  {
   "cell_type": "code",
   "execution_count": null,
   "metadata": {},
   "outputs": [
    {
     "name": "stdout",
     "output_type": "stream",
     "text": [
      "Mi nombre es: Rommel\n",
      "Mi edad es: 20\n"
     ]
    }
   ],
   "source": [
    "nombre = \"Rommel\"\n",
    "edad = 20\n",
    "\n",
    "print(f\"Mi nombre es: {nombre}\")\n",
    "print(f\"Mi edad es: {edad}\")"
   ]
  },
  {
   "cell_type": "code",
   "execution_count": null,
   "metadata": {},
   "outputs": [
    {
     "name": "stdout",
     "output_type": "stream",
     "text": [
      "Este dato es de tipo <class 'str'>\n",
      "Este dato es de tipo <class 'str'>\n",
      "Este dato es de tipo <class 'int'>\n",
      "Este dato es de tipo <class 'float'>\n",
      "Este dato es de tipo <class 'bool'>\n"
     ]
    }
   ],
   "source": [
    "#Identificando los tipos de datos\n",
    "var1 = 'A' #Usamos comillas simples para guardar datos tipo char\n",
    "var2 =  \"Python\" #Usamos comilas dobles para guardar valores de tipo string\n",
    "var3 = 25\n",
    "var4 = 2.5\n",
    "var5 = True\n",
    "\n",
    "print(f\"Este dato es de tipo {type(var1)}\")\n",
    "print(f\"Este dato es de tipo {type(var2)}\")\n",
    "print(f\"Este dato es de tipo {type(var3)}\")\n",
    "print(f\"Este dato es de tipo {type(var4)}\")\n",
    "print(f\"Este dato es de tipo {type(var5)}\")"
   ]
  },
  {
   "cell_type": "markdown",
   "metadata": {},
   "source": [
    "#### Condicionales"
   ]
  },
  {
   "cell_type": "code",
   "execution_count": null,
   "metadata": {},
   "outputs": [
    {
     "name": "stdout",
     "output_type": "stream",
     "text": [
      "5 es igual a 5\n"
     ]
    }
   ],
   "source": [
    "num1 = 5\n",
    "num2 = 5\n",
    "\n",
    "if num1 > num2:\n",
    "    print(f\"{num1} es mayor a {num2}\")\n",
    "elif num1 < num2:\n",
    "    print(\"Es menor\")\n",
    "else:\n",
    "    print(F\"{num1} es igual a {num2}\")"
   ]
  },
  {
   "cell_type": "markdown",
   "metadata": {},
   "source": [
    "#### Bucle while"
   ]
  },
  {
   "cell_type": "code",
   "execution_count": null,
   "metadata": {},
   "outputs": [
    {
     "name": "stdout",
     "output_type": "stream",
     "text": [
      "Rommel\n",
      "Rommel\n",
      "Rommel\n",
      "Rommel\n",
      "Rommel\n"
     ]
    }
   ],
   "source": [
    "num = 0 \n",
    "while num < 5:\n",
    "    num += 1\n",
    "    print(\"Rommel\")"
   ]
  },
  {
   "cell_type": "code",
   "execution_count": null,
   "metadata": {},
   "outputs": [
    {
     "name": "stdout",
     "output_type": "stream",
     "text": [
      "1\n",
      "2\n",
      "3\n",
      "4\n",
      "5\n",
      "Se cumplio la condicion\n"
     ]
    }
   ],
   "source": [
    "num = 0 \n",
    "while num < 5:\n",
    "    num += 1\n",
    "    print(num)\n",
    "else:\n",
    "    print(\"Se cumplio la condicion\")"
   ]
  },
  {
   "cell_type": "code",
   "execution_count": null,
   "metadata": {},
   "outputs": [
    {
     "name": "stdout",
     "output_type": "stream",
     "text": [
      "3\n"
     ]
    }
   ],
   "source": [
    "num = 0\n",
    "while num < 5:\n",
    "    num += 1 \n",
    "    if num == 3:\n",
    "        print(num)\n",
    "        break\n",
    "else:\n",
    "    print(\"Se ha complido la condicion\")"
   ]
  },
  {
   "cell_type": "markdown",
   "metadata": {},
   "source": [
    "#### Bucle for"
   ]
  },
  {
   "cell_type": "code",
   "execution_count": 19,
   "metadata": {},
   "outputs": [
    {
     "name": "stdout",
     "output_type": "stream",
     "text": [
      "Encontre la z\n"
     ]
    }
   ],
   "source": [
    "num = \"Venezuela\"\n",
    "for i in num:\n",
    "    if i == 'z':\n",
    "        print(\"Encontre la z\")"
   ]
  },
  {
   "cell_type": "code",
   "execution_count": 14,
   "metadata": {},
   "outputs": [
    {
     "name": "stdout",
     "output_type": "stream",
     "text": [
      "Hola\n",
      "Hola\n",
      "Hola\n",
      "Hola\n",
      "Hola\n",
      "Hola\n",
      "Hola\n",
      "Hola\n",
      "Hola\n",
      "Hola\n"
     ]
    }
   ],
   "source": [
    "for i in range(10):\n",
    "    print(\"Hola\")"
   ]
  },
  {
   "cell_type": "code",
   "execution_count": null,
   "metadata": {},
   "outputs": [
    {
     "name": "stdout",
     "output_type": "stream",
     "text": [
      "P\n",
      "y\n",
      "t\n"
     ]
    }
   ],
   "source": [
    "#Iterando con una variable \n",
    "ite = \"Python\"\n",
    "for i in ite:\n",
    "    print(i)\n",
    "    if i == \"t\":\n",
    "        break"
   ]
  },
  {
   "cell_type": "code",
   "execution_count": 3,
   "metadata": {},
   "outputs": [
    {
     "name": "stdout",
     "output_type": "stream",
     "text": [
      "Luis\n",
      "Marco\n",
      "Maria\n",
      "Luisa\n",
      "Vincenzo\n"
     ]
    }
   ],
   "source": [
    "#Iterando con una lista\n",
    "list = [\"Luis\",\"Marco\",\"Maria\",\"Luisa\",\"Vincenzo\"]\n",
    "for i in list:\n",
    "    print(i)"
   ]
  },
  {
   "cell_type": "code",
   "execution_count": 10,
   "metadata": {},
   "outputs": [
    {
     "name": "stdout",
     "output_type": "stream",
     "text": [
      "Luis\n",
      "Marco\n",
      "Maria\n",
      "Luisa\n",
      "Vincenzo\n"
     ]
    }
   ],
   "source": [
    "list = [\"Luis\",\"Marco\",\"Maria\",\"Luisa\",\"Vincenzo\"]\n",
    "print(list[0])\n",
    "print(list[1])\n",
    "print(list[2])\n",
    "print(list[3])\n",
    "print(list[4])"
   ]
  },
  {
   "cell_type": "code",
   "execution_count": 1,
   "metadata": {},
   "outputs": [
    {
     "name": "stdout",
     "output_type": "stream",
     "text": [
      "Pais\n",
      "Nombre\n",
      "Edad\n",
      "Apellido\n"
     ]
    }
   ],
   "source": [
    "#Iterando con un diccionario\n",
    "dic = {\n",
    "    \"Nombre\",\n",
    "    \"Apellido\",\n",
    "    \"Edad\",\n",
    "    \"Pais\",\n",
    "}\n",
    "\n",
    "for i in dic:\n",
    "    print(i)"
   ]
  },
  {
   "cell_type": "code",
   "execution_count": null,
   "metadata": {},
   "outputs": [
    {
     "name": "stdout",
     "output_type": "stream",
     "text": [
      "True\n",
      "True\n",
      "False\n"
     ]
    }
   ],
   "source": [
    "#Como saber que es iterable y que no ?\n",
    "from collections.abc import Iterable\n",
    "\n",
    "Lista = [\"Nombre\",\"Apellido\",\"Edad\"]\n",
    "Dato = \"Python\"\n",
    "Num = 10\n",
    "\n",
    "print(isinstance(Lista, Iterable))\n",
    "print(isinstance(Dato, Iterable))\n",
    "print(isinstance(Num, Iterable))\n"
   ]
  },
  {
   "cell_type": "markdown",
   "metadata": {},
   "source": [
    "#### Funciones"
   ]
  },
  {
   "cell_type": "code",
   "execution_count": 33,
   "metadata": {},
   "outputs": [
    {
     "name": "stdout",
     "output_type": "stream",
     "text": [
      "5\n",
      "8\n"
     ]
    }
   ],
   "source": [
    "def suma(num1,num2):\n",
    "    result = num1 + num2\n",
    "    return result\n",
    "print(suma(2,3))\n",
    "print(suma(4,4))"
   ]
  },
  {
   "cell_type": "markdown",
   "metadata": {},
   "source": [
    "#### Opreadores logicos"
   ]
  },
  {
   "cell_type": "code",
   "execution_count": 1,
   "metadata": {},
   "outputs": [
    {
     "name": "stdout",
     "output_type": "stream",
     "text": [
      "Vamos a la playa\n"
     ]
    }
   ],
   "source": [
    "hacersol = True\n",
    "sabado = True\n",
    "\n",
    "if hacersol == True and sabado == True:\n",
    "    print(\"Vamos a la playa\")"
   ]
  },
  {
   "cell_type": "code",
   "execution_count": null,
   "metadata": {},
   "outputs": [
    {
     "name": "stdout",
     "output_type": "stream",
     "text": [
      "Vamos a la playa igual\n"
     ]
    }
   ],
   "source": []
  }
 ],
 "metadata": {
  "kernelspec": {
   "display_name": "Python 3",
   "language": "python",
   "name": "python3"
  },
  "language_info": {
   "codemirror_mode": {
    "name": "ipython",
    "version": 3
   },
   "file_extension": ".py",
   "mimetype": "text/x-python",
   "name": "python",
   "nbconvert_exporter": "python",
   "pygments_lexer": "ipython3",
   "version": "3.12.1"
  }
 },
 "nbformat": 4,
 "nbformat_minor": 2
}
